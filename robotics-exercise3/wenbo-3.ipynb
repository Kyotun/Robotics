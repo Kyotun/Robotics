{
 "cells": [
  {
   "cell_type": "markdown",
   "id": "041ae70f",
   "metadata": {},
   "source": [
    "  <style>\n",
    "    .container {\n",
    "      display: flex;\n",
    "      gap: 10px; /* Optional spacing between divs */\n",
    "    }\n",
    "\n",
    "    .box h1 {\n",
    "      font-size: 50px;\n",
    "      padding-top: 10px;\n",
    "      font-weight: 600;\n",
    "    }\n",
    "  </style>\n",
    "  <div class=\"container\" style=\"\">\n",
    "    <div class=\"box\">\n",
    "      <h1>Planning for Robotics</h1>\n",
    "    </div>\n",
    "    <div class=\"box\" align=\"right\">\n",
    "      <img src=\"images/template/course_logo.svg\" alt=\"Planning for Robotics\" height=\"70\"/>\n",
    "      &nbsp;&nbsp;&nbsp;&nbsp;\n",
    "      <img src=\"images/template/logo_i6.svg\" alt=\"Chair Logo\" height=\"70\"/>\n",
    "      &nbsp;&nbsp;&nbsp;&nbsp;\n",
    "    </div>\n",
    "  </div>"
   ]
  },
  {
   "cell_type": "markdown",
   "id": "522d1e78",
   "metadata": {},
   "source": [
    "\n",
    "# Exercise Sheet 3 - Navigation and Path Planning"
   ]
  },
  {
   "cell_type": "markdown",
   "id": "8f31c648",
   "metadata": {},
   "source": [
    "## Introduction\n",
    "In mobile robots, navigation is about getting a robot from one location to another location. Whereas in motion planning we were considering problems like moving a robot arm, here we are more interested in getting from one room to another room, or from one building to another building. Navigation competence is actually the first type of higher-level deliberation system that we are considering here. In fact, it consists of two different types of competencies: path planning, and obstacle avoidance. As such, we are looking into a much more coarse level of abstraction. \n",
    "\n",
    "In this week's exercise we are looking into discretisation of environments, global path planning, and local obstacle avoidance. We will specifically not look into the localisation and mapping problems, though I do recommend a look into the book \"Probabilistic Robotics\" in case you are interested.  \n",
    "\n",
    "### Learning Objectives\n",
    "- Learn about map discretisation \n",
    "- Implement path finding algorithms\n",
    "- React to local obstacles by performing local collision avoidance\n",
    "\n",
    "\n",
    "### Acknowledgments\n",
    "This exercise is largely based on contents from \"Introduction to Autonomous Mobile Robots\" by Siegwart et al. as well as \"Planning Algorithms\" by Steven LaValle, and Modern Robotics by Kevin Lynch and Frank Park."
   ]
  },
  {
   "cell_type": "code",
   "execution_count": 27,
   "id": "35a7d166",
   "metadata": {},
   "outputs": [],
   "source": [
    "%matplotlib inline\n",
    "from shapely.geometry import Polygon, Point\n",
    "import numpy as np\n",
    "import matplotlib.pyplot as plt\n",
    "import heapq\n",
    "import time\n",
    "from IPython.display import clear_output\n",
    "import random\n",
    "from collections import deque"
   ]
  },
  {
   "cell_type": "markdown",
   "id": "5c217010",
   "metadata": {},
   "source": [
    "## Task 0: Environment Creation\n",
    "In the following tasks you will need to create a path planning environment using `matplotlib`\n",
    "Create your own 2D environment and visualisation function here. You can build on your previously developed tools."
   ]
  },
  {
   "cell_type": "markdown",
   "id": "e484b87f",
   "metadata": {},
   "source": [
    "## Task 1: Map Discretisation\n",
    "A *grid map*, or occupancy grid, represents the environment as a two-dimensional array of discrete cells. This differs from the configuration space representations discussed earlier, which typically do not involve any discretisation.\n",
    "\n",
    "<div style=\"text-align: center;\">\n",
    "    <img src=\"images/maps.png\" width=\"500\" />\n",
    "    \n",
    "An example of lossy abstraction in a discrete grid map, leading ot the loss of a narrow passageway. From \"Autonomous Mobile Robots\" by Siegwart et al.\n",
    "</div>\n",
    "\n",
    "The simplest form of spatial discretisation is a uniform grid. In navigation tasks, we often restrict ourselves to a 2D grid representation. This enables the use of classical graph search algorithms such as A* or Dijkstra’s algorithm to compute paths to a target location.\n",
    "\n",
    "However, before such algorithms can be applied, several decisions must be made regarding the grid structure:\n",
    "- **Connectivity:** Should the grid be 4-connected (movement allowed in cardinal directions only) or 8-connected (including diagonal movements)?\n",
    "- **Resolution:** What cell size should the grid use? The choice of resolution has important implications. For instance, grid-based planners like A* are resolution complete, meaning they will find a solution if one exists at the selected level of discretisation.\n",
    "\n",
    "There are three key considerations when choosing a suitable resolution and representation:\n",
    "1.\tThe map’s precision should match the precision required to achieve the robot’s goals.\n",
    "2.\tThe features and resolution of the map should align with the quality and granularity of the robot’s sensor data.\n",
    "3.\tThe complexity of the map representation directly affects the computational cost of navigation, localisation, and other tasks.\n",
    "\n",
    "Grid-based representations are commonly referred to as fixed decompositions, where the continuous real-world environment is approximated using a discrete structure. This approximation is inherently lossy—for example, narrow passageways may be lost during discretisation. Nonetheless, grid maps remain an effective approach due to their simplicity and efficiency in planning, mapping, and localisation tasks.\n",
    "\n",
    "Generally, many of the parameters depend on robot hardware, use-cases, and desired behaviour. In the following exercises you will explore grid maps and discretisation of polynomial obstacles. "
   ]
  },
  {
   "cell_type": "markdown",
   "id": "6b8a8e94",
   "metadata": {},
   "source": [
    "### Coding Task 1.1 - 2D Map\n",
    "In this task you should implement a `GridMap` class that can be initialised with a height, width, and resolution. Add methods to set cells to an obstacle, to check whether a cell is free. Also add methods t visualise the map (including a path of cells, and a robot position) for later tasks."
   ]
  },
  {
   "cell_type": "code",
   "execution_count": 28,
   "id": "7fda9cb2",
   "metadata": {},
   "outputs": [],
   "source": [
    "class GridMap:\n",
    "    #Your Code Goes in the sections Below\n",
    "    def __init__(self, width, height, resolution=1):\n",
    "        \"\"\"\n",
    "        Initialize a 2D occupancy grid map.\n",
    "        :param width: Width of the map in number of cells.\n",
    "        :param height: Height of the map in number of cells.\n",
    "        :param resolution: Size of each cell (meters per cell).\n",
    "        \"\"\"\n",
    "        self.width = width\n",
    "        self.height = height\n",
    "        self.resolution = resolution\n",
    "        self.grid = np.zeros((height, width), dtype=np.uint8)  # 0 = free, 1 = obstacle\n",
    "\n",
    "    def set_obstacle(self, x, y):\n",
    "        \"\"\"\n",
    "        Mark the cell (x, y) as occupied.\n",
    "        \"\"\"\n",
    "    #Add your code here\n",
    "        if 0 <= x < self.width and 0 <= y < self.height:\n",
    "            self.grid[y, x] = 1  # 注意y是行，x是列\n",
    "\n",
    "    def is_free(self, x, y):\n",
    "        \"\"\"\n",
    "        Check if the cell (x, y) is free.\n",
    "        \"\"\"\n",
    "    #Add your code here\n",
    "        if 0 <= x < self.width and 0 <= y < self.height:\n",
    "            return self.grid[y, x] == 0\n",
    "        return False  # 越界则认为不可走\n",
    "    def visualize(self):\n",
    "        \"\"\"\n",
    "        Show the grid map using matplotlib, with grid lines.\n",
    "        \"\"\"\n",
    "    #Add your code here\n",
    "        fig, ax = plt.subplots()\n",
    "        ax.imshow(self.grid, cmap='Greys', origin='lower')\n",
    "\n",
    "        # 画出网格线\n",
    "        ax.set_xticks(np.arange(-0.5, self.width, 1))\n",
    "        ax.set_yticks(np.arange(-0.5, self.height, 1))\n",
    "        ax.set_xticklabels([])\n",
    "        ax.set_yticklabels([])\n",
    "        ax.grid(color='black', linestyle='-', linewidth=0.5)\n",
    "\n",
    "        plt.show()"
   ]
  },
  {
   "cell_type": "code",
   "execution_count": 29,
   "id": "acb60a4a",
   "metadata": {},
   "outputs": [
    {
     "data": {
      "image/png": "[encoded data removed]",
      "text/plain": [
       "<Figure size 640x480 with 1 Axes>"
      ]
     },
     "metadata": {},
     "output_type": "display_data"
    }
   ],
   "source": [
    "# Create a 10x10 grid map\n",
    "gridmap = GridMap(10,10)\n",
    "# Set a vertical wall at column x = 5\n",
    "for y in range(10):\n",
    "    gridmap.set_obstacle(5,y)\n",
    "# Set a horizontal wall at row y = 2\n",
    "for x in range(10):\n",
    "    gridmap.set_obstacle(x,2)\n",
    "    \n",
    "\n",
    "# Visualize the result\n",
    "gridmap.visualize()\n"
   ]
  },
  {
   "cell_type": "code",
   "execution_count": 30,
   "id": "35b19a2d",
   "metadata": {},
   "outputs": [
    {
     "name": "stdout",
     "output_type": "stream",
     "text": [
      "Is (4, 2) free? False\n",
      "Is (1, 1) free? True\n"
     ]
    }
   ],
   "source": [
    "# Check some cells\n",
    "print(\"Is (4, 2) free?\", gridmap.is_free(4, 2))  # False\n",
    "print(\"Is (1, 1) free?\", gridmap.is_free(1, 1))  # True"
   ]
  },
  {
   "cell_type": "markdown",
   "id": "dd0417cd",
   "metadata": {},
   "source": [
    "### Coding Task 1.2 - Occupancy Grid Mapping\n",
    "Using the previously discussed occupancy grid map, turn a set of polygonal obstacles into occupancy values for the map. Define the obstacles first, then fill in your map with the obstacles, and show the result. One simple way of performing the discretisation of obstacles is to query whether the center point of the grid cell is in the polygon. This, depending on the grid size, is an optimistic approach."
   ]
  },
  {
   "cell_type": "code",
   "execution_count": 31,
   "id": "72e0f80f",
   "metadata": {},
   "outputs": [],
   "source": [
    "def add_polygon_obstacle_to_grid(gridmap, polygon, origin=(0, 0)):\n",
    "    \"\"\"\n",
    "    Rasterize a polygonal obstacle into the gridmap.\n",
    "    :param gridmap: Instance of GridMap.\n",
    "    :param polygon: A shapely.geometry.Polygon object.\n",
    "    :param origin: Origin of world coordinates (for future use).\n",
    "    \"\"\"\n",
    "    #Add your code here\n",
    "    \"\"\"\n",
    "    将 shapely 多边形障碍物“烘焙”到 GridMap 中。\n",
    "\n",
    "    :param gridmap:  已实例化的 GridMap\n",
    "    :param polygon:  shapely.geometry.Polygon 障碍物\n",
    "    :param origin:   世界坐标系下的原点，对应 grid (0,0) 左下角。默认 (0,0) 即可\n",
    "    \"\"\"\n",
    "    # 遍历所有行列（i 行、j 列）\n",
    "    for i in range(gridmap.height):          # y 方向（行）\n",
    "        for j in range(gridmap.width):       # x 方向（列）\n",
    "\n",
    "            # === 1️⃣ 计算该格子中心点的世界坐标 ===\n",
    "            cx = origin[0] + (j + 0.5) * gridmap.resolution   # x 坐标\n",
    "            cy = origin[1] + (i + 0.5) * gridmap.resolution   # y 坐标\n",
    "            center_pt = Point(cx, cy)\n",
    "\n",
    "            # === 2️⃣ 判断中心点是否在多边形内部 ===\n",
    "            if polygon.covers(center_pt):\n",
    "                gridmap.set_obstacle(j, i)   # 注意 set_obstacle(x, y) ➜ (列, 行)\n",
    "    "
   ]
  },
  {
   "cell_type": "code",
   "execution_count": 32,
   "id": "4153cb35",
   "metadata": {},
   "outputs": [
    {
     "data": {
      "image/png": "[encoded data removed]",
      "text/plain": [
       "<Figure size 640x480 with 1 Axes>"
      ]
     },
     "metadata": {},
     "output_type": "display_data"
    }
   ],
   "source": [
    "# Create a grid map 5m x 5m area\n",
    "#Add your code here\n",
    "res = 0.1\n",
    "width, height = int(5.0/res), int(5.0/res)\n",
    "gridmap = GridMap(50, 50,resolution=res)\n",
    "# Define polygonal obstacles\n",
    "square = Polygon([(2.0, 2.0), (2.5, 2.0), (2.5, 2.5), (2.0, 2.5)])\n",
    "triangle = Polygon([(1.0, 3.0), (1.5, 4.0), (2.0, 3.0)])\n",
    "l_shape = Polygon([(3.0, 3.0), (4.0, 3.0), (4.0, 3.5), (3.5, 3.5), (3.5, 4.0), (3.0, 4.0)])\n",
    "\n",
    "# Add them to the grid\n",
    "#Add your code here\n",
    "add_polygon_obstacle_to_grid(gridmap, square)\n",
    "add_polygon_obstacle_to_grid(gridmap, triangle)\n",
    "add_polygon_obstacle_to_grid(gridmap, l_shape)\n",
    "\n",
    "# Visualize the resulting grid\n",
    "gridmap.visualize()\n"
   ]
  },
  {
   "cell_type": "markdown",
   "id": "3eb8dd56",
   "metadata": {},
   "source": [
    "## Task 2: Path Planning\n",
    "Once we have our discretisation in form of a grid in place, we can now look into the path planning problem itself. As mentioned in the introduction, we treat path planning again as a search problem. \n",
    "It's easy to see how a grid is just a graph, once we determined the connectedness, so we can just rely on the vast set of efficient graph search algorithms. In this specific case, we want to move from an initial position in the grid, to a goal position in the grid (i.e., from one node to another), using a connected path and minimizing cost. In the base case, we assume uniform cost for every transition. However, the cost can be used as a tool to modify the behaviour of the plannner (e.g., to keep more distance to an obstacle).\n",
    "\n",
    "\n",
    "### The A* Algorithm\n",
    "<div style=\"text-align: center;\">\n",
    "    <img src=\"images/robot_astar.gif\" width=\"500\" />\n",
    "    \n",
    "An example of the A* algorithm performing search in an 8-connected grid. From [\"MIT Class 865.21\"](https://fab.cba.mit.edu/classes/865.21/topics/path_planning/robotic.html)\n",
    "</div>\n",
    "One of the most well known graph search algorithms that we can use for this purpose is A*. It combines the optimality of Dijkstra’s algorithm (a forward search algorithm) with the efficiency of Greedy Best-First Search.\n",
    "\n",
    "Let $(V,E)$ be the input graph, $X_G$ be the set of goal states and $x_0$ the initial state. \n",
    "Let $l(e)$ bet the cost associated with $e \\in E$ and $C^*:V \\to [0, \\infty]$ be the optimal cost-to-come function, that is the sum of all edge costs $l(e)$ over the most optimal path from $x_0$ to the selected $x \\in V$. If $C^*(x)$ is not known yet, we refer to $C(x)$, the best known cost so far. \n",
    "\n",
    "Now let $G(x)$ denote the cost-to-go from $x$ to some state in $X_G$. Since we can not know $G(x)$ while performing search, we need to estimate it. For this we can use a heuristic function. However, this heuristic function needs to fulfill certain criteria which we call admissability. A heuristic is admissable if it always underestimates the true cost-to-go, thus not preventing the expansion of the actual optimal path. Of course, one underestimate is to always assign the value $0$, but we generally strive for a reasonable heuristic. If we choose an admissiable heuristic, then A* returns optimal paths. \n",
    "\n",
    "Let us now introduce the algorithm itself, which is mostly based on Dijkstra's aglorithm: Let us initialise a priority queue $Q$ (i.e., a queue that is ordered by each element's assigned priority value). Every entry $x' \\in Q$ will be sorted according to the function $C^*(x') + G(x')$. \n",
    "Let's initialise $Q$ with our initial state $x_0$ and mark it as visited. We will now perform the following procedure:"
   ]
  },
  {
   "cell_type": "code",
   "execution_count": 33,
   "id": "b3d701a0",
   "metadata": {},
   "outputs": [],
   "source": [
    "# while Q not empty\n",
    "# \tx <- first in Q\n",
    "# \tif x \\in X_G\n",
    "# \t\treturn SUCCESS\n",
    "# \tfor all x' \\in SUCCESSSOR(x)\n",
    "# \t\tif x' not visited\n",
    "# \t\t\tmark x' as visited\n",
    "# \t\t\tinsert x' in $Q$\n",
    "# \t\telse\n",
    "# \t\t\trecompute C(x') and adapt priority"
   ]
  },
  {
   "cell_type": "markdown",
   "id": "ac897032",
   "metadata": {},
   "source": [
    "### Coding Task 2.1 - Global Path Planning with A*\n",
    "\n",
    "Implement a global path planner using the A* search algorithm on the grid map:\n",
    "- Implement A* for a 2D grid:\n",
    "- Use 4-connected neighbors (optionally 8-connected).\n",
    "- Manhattan distance as the default heuristic.\n",
    "- Stop when the goal is reached.\n",
    "- Visualize the resulting path.\n",
    "\n",
    "Think about the following questions while doing your implementation:\n",
    "- What happens if we use 8-connected neighbors?\n",
    "- How does performance change with larger maps? What trade-offs arise between grid resolution and computational cost?\n",
    "- When is the heuristic inadmissible? Why does Manhattan distance work well for grid maps?\n",
    "- How can the cost be modified to keep the robot farther away from an obstacle?"
   ]
  },
  {
   "cell_type": "code",
   "execution_count": 34,
   "id": "54d20a02",
   "metadata": {},
   "outputs": [],
   "source": [
    "def heuristic(a, b):\n",
    "    \"\"\"\n",
    "    Compute Manhattan distance.\n",
    "    \"\"\"\n",
    "    #Add your code here\n",
    "    return abs(a[0] - b[0]) + abs(a[1] - b[1])\n",
    "\n",
    "def a_star(gridmap, start, goal):\n",
    "    \"\"\"\n",
    "    Run A* search on the given grid map.\n",
    "    :param gridmap: GridMap instance.\n",
    "    :param start: (x, y) tuple.\n",
    "    :param goal: (x, y) tuple.\n",
    "    :return: List of (x, y) cells forming the path, or None.\n",
    "    \"\"\"\n",
    "    #Add your code here\n",
    "\n",
    "    ##\n",
    "    \"\"\"\n",
    "    在给定 GridMap 上执行 A*。\n",
    "    :param gridmap:  GridMap 实例（需实现 is_free()）\n",
    "    :param start:    (x, y) 起点\n",
    "    :param goal:     (x, y) 终点\n",
    "    :return:         路径列表 [(x0,y0), …, (xn,yn)] 或 None\n",
    "    \"\"\"\n",
    "    # OPEN = 优先队列，键 = f = g+h\n",
    "    open_pq = []                         # (f, (x,y))\n",
    "    heapq.heappush(open_pq, (0, start))\n",
    "\n",
    "    came_from = {}                       # 最短路父指针\n",
    "    g_cost    = {start: 0}               # g(x) 已知最优成本\n",
    "\n",
    "    # 4-连通方向\n",
    "    directions = [(1,0), (-1,0), (0,1), (0,-1)]\n",
    "\n",
    "    while open_pq:\n",
    "        f, current = heapq.heappop(open_pq)\n",
    "\n",
    "        if current == goal:              # 找到目标 → 回溯\n",
    "            path = [current]\n",
    "            while current in came_from:\n",
    "                current = came_from[current]\n",
    "                path.append(current)\n",
    "            return path[::-1]            # 反转为起点→终点\n",
    "\n",
    "        for dx, dy in directions:\n",
    "            nx, ny = current[0] + dx, current[1] + dy\n",
    "            if not gridmap.is_free(nx, ny):\n",
    "                continue                # 障碍或越界\n",
    "\n",
    "            tentative_g = g_cost[current] + 1   # 邻边权重=1\n",
    "\n",
    "            if (nx, ny) not in g_cost or tentative_g < g_cost[(nx, ny)]:\n",
    "                g_cost[(nx, ny)] = tentative_g\n",
    "                f_score = tentative_g + heuristic((nx, ny), goal)\n",
    "                heapq.heappush(open_pq, (f_score, (nx, ny)))\n",
    "                came_from[(nx, ny)] = current\n",
    "\n",
    "    return None                          # 无可行路径\n",
    "\n",
    "def visualize_path(gridmap, path):\n",
    "    \"\"\"\n",
    "    Show the grid map with a path overlay.\n",
    "    \"\"\"\n",
    "    #Add your code here\n",
    "    \"\"\"\n",
    "    在灰度栅格图上叠加绿色路径。蓝=起点，红=终点。\n",
    "    \"\"\"\n",
    "    fig, ax = plt.subplots(figsize=(6,6))\n",
    "    ax.imshow(gridmap.grid, cmap='Greys', origin='lower')\n",
    "\n",
    "    # 画路径\n",
    "    if path:\n",
    "        xs, ys = zip(*path)\n",
    "        ax.plot(xs, ys, color='lime', linewidth=2)\n",
    "        ax.scatter(xs[0], ys[0], c='blue', marker='o', zorder=3, label='start')\n",
    "        ax.scatter(xs[-1], ys[-1], c='red',  marker='x', zorder=3, label='goal')\n",
    "\n",
    "    # 网格线\n",
    "    ax.set_xticks(np.arange(-0.5, gridmap.width, 1))\n",
    "    ax.set_yticks(np.arange(-0.5, gridmap.height, 1))\n",
    "    ax.grid(color='black', linewidth=0.5)\n",
    "    ax.set_xticklabels([]); ax.set_yticklabels([])\n",
    "    ax.set_aspect('equal'); ax.legend(); plt.show()"
   ]
  },
  {
   "cell_type": "code",
   "execution_count": 35,
   "id": "a1babd32",
   "metadata": {},
   "outputs": [
    {
     "data": {
      "image/png": "[encoded data removed]",
      "text/plain": [
       "<Figure size 600x600 with 1 Axes>"
      ]
     },
     "metadata": {},
     "output_type": "display_data"
    }
   ],
   "source": [
    "# Create a new map 20 x 20 and add an obstacle of size 10 in the middle\n",
    "#Add your code here\n",
    "gridmap = GridMap(20, 20, resolution=1)\n",
    "# 中心障碍：x,y ∈ [5,14]\n",
    "for y in range(5, 15):\n",
    "    for x in range(5, 15):\n",
    "        gridmap.set_obstacle(x, y)\n",
    "\n",
    "\n",
    "start = (2, 8)\n",
    "goal = (18, 10)\n",
    "\n",
    "# Run A* and visualize\n",
    "#Add your code here\n",
    "path = a_star(gridmap, start, goal)\n",
    "visualize_path(gridmap, path)"
   ]
  },
  {
   "cell_type": "markdown",
   "id": "2dbaab88",
   "metadata": {},
   "source": [
    "### Coding Task 2.2 - Visual Path Following Simulation \n",
    "\n",
    "Simulate a robot following the path returned by your A* planner, and visualize the movement step-by-step using matplotlib.\n",
    "\n",
    "Make sure that:\n",
    "- The robot is a point robot occupying one grid cell.\n",
    "- The path is valid and free of obstacles.\n",
    "- The robot follows the path sequentially, one cell per frame."
   ]
  },
  {
   "cell_type": "code",
   "execution_count": 36,
   "id": "91deae3a",
   "metadata": {},
   "outputs": [],
   "source": [
    "def simulate_path_following(gridmap, path, delay=0.2):\n",
    "    \"\"\"\n",
    "    Step-by-step simulation of a robot following a path on a grid map.\n",
    "    :param gridmap: GridMap instance.\n",
    "    :param path: List of (x, y) cells.\n",
    "    :param delay: Time between steps in seconds.\n",
    "    \"\"\"\n",
    "    #Add your code here\n",
    "    if not path:\n",
    "        print(\"⚠️ 无有效路径\")\n",
    "        return\n",
    "    \n",
    "    # ---- 静态底图 ----\n",
    "    fig, ax = plt.subplots(figsize=(6,6))\n",
    "    ax.imshow(gridmap.grid, cmap='Greys', origin='lower')\n",
    "    ax.set_xticks(np.arange(-0.5, gridmap.width, 1))\n",
    "    ax.set_yticks(np.arange(-0.5, gridmap.height, 1))\n",
    "    ax.grid(color='black', linewidth=0.5)\n",
    "    ax.set_xticklabels([]); ax.set_yticklabels([])\n",
    "    ax.set_aspect('equal')\n",
    "\n",
    "    xs, ys = zip(*path)\n",
    "    ax.plot(xs, ys, color='lime', linewidth=2, alpha=0.4)     # 整条路径淡显\n",
    "    ax.scatter(xs[0], ys[0], c='blue', marker='o', label='start')\n",
    "    ax.scatter(xs[-1], ys[-1], c='red',  marker='x', label='goal')\n",
    "    ax.legend()\n",
    "\n",
    "    # ---- 动态机器人点 ----\n",
    "    robot_dot, = ax.plot([xs[0]], [ys[0]], 'bo', markersize=10)  # 用列表包裹\n",
    "\n",
    "    for (x, y) in path[1:]:\n",
    "        robot_dot.set_data([x], [y])      # 关键修改：传列表\n",
    "        clear_output(wait=True)\n",
    "        display(fig)\n",
    "        time.sleep(delay)\n",
    "\n",
    "    clear_output(wait=True)\n",
    "    display(fig)\n",
    "    print(\"✅ ok\")"
   ]
  },
  {
   "cell_type": "code",
   "execution_count": 39,
   "id": "f3cd1563",
   "metadata": {},
   "outputs": [
    {
     "data": {
      "image/png": "[encoded data removed]",
      "text/plain": [
       "<Figure size 600x600 with 1 Axes>"
      ]
     },
     "metadata": {},
     "output_type": "display_data"
    },
    {
     "name": "stdout",
     "output_type": "stream",
     "text": [
      "✅ ok\n"
     ]
    }
   ],
   "source": [
    "# Reuse map, start, goal, and A* path from Task 2\n",
    "\n",
    "gridmap = GridMap(20, 20, resolution=1)\n",
    "for y in range(5, 15):                 # 行 5–14\n",
    "    for x in range(5, 15):             # 列 5–14\n",
    "        gridmap.set_obstacle(x, y)\n",
    "\n",
    "start = (2, 10)\n",
    "goal = (17, 10)\n",
    "\n",
    "#compute the path\n",
    "#Add your code here\n",
    "path  = a_star(gridmap, start, goal)    # 调用刚实现的函数\n",
    "\n",
    "#simulate the path\n",
    "#Add your code here\n",
    "visualize_path(gridmap, path)           # 先画静态整条路径\n",
    "simulate_path_following(gridmap, path, delay=0.25)   # 再逐格动画"
   ]
  },
  {
   "cell_type": "markdown",
   "id": "c02b237a",
   "metadata": {},
   "source": [
    "## Task 3: Collision Avoidance and the Bug2 Algorithm\n",
    "One of the big problem with path planning is that it is mostly static. I.e., given our static map, we perform one-shot planning to find a path. This naive approach works well in very controlled environments, but does not generalise to the complexity of real world scenarios. Often, a robot might have to deal with unknown static obstacles or even other dynamic agents that block its path, forcing it to stop or take a detour to avoid collision.\n",
    "\n",
    "Robots typically have a set of different sensors that they can use to sense their surrounds. These sensors, often have a shorter range than the environment that the robot is interacting with, but they are very useful to perform local obstacle avoidance. I.e., changing the robot's trajectory away from the path to avoid collision. Many different obstacle avoidance algorithms exist, with many different degrees of complexity. Here we will focus on one of the easiest algorithms for collision avoidance: the Bug family of algorithms.\n",
    "\n",
    "<div style=\"text-align: center;\">\n",
    "    <img src=\"images/bug2.png\" width=\"500\" />\n",
    "    \n",
    "An example of the Bug2 algorithm performing as it traverses around two obstacles. From \"Introduction to Autonomous Mobile Robots\" by Siegwart et al.\n",
    "</div>\n",
    "\n",
    "Bug1, the original algorithm in the family, tries to move the robot to the target in a straight line until it hits an obstacle. If an obstacle blocks the way, the robot fully circles it first, before it departs from the point with the shortest distance toward the goal. Bug2, is an improvement over this simple algorithm, instead of traveling the whole way around the obstacle, it moves directly towards the goal, once it is capable of it again. Bug2 does not require a map — only obstacle detection. The robot must only detect detect:\n",
    "- The point of contact with an obstacle.\n",
    "- Whether the direct line to the goal is free.\n",
    "\n",
    "Bug2 can also be combined with a path planner. We can follow the path until we hit an obstacle. Once we hit it, we use Bug2's circling to move around the obstacle until we hit a cell that is part of the path again. You will try to variations of this in the following coding tasks. "
   ]
  },
  {
   "cell_type": "markdown",
   "id": "4762fa54",
   "metadata": {},
   "source": [
    "### Coding Task 3.1 - Implement the Bug2 Algorithm\n",
    "In this task you are supposed to implement the Bug2 algorithm for collision avoidance. First, you must add another layer of obstacles that the A* planner from the previous task is \"blind\" to. Then you must follow this path, until you hit one of these secondary obstacles. In case of collision, use the Bug2 algorithm to follow the obstacles boundary (you can pick the direction), until you meet your planned path again. Use the visualisation tool from the previous task to animate the execution of your Bug2 algorithm.\n",
    "\n",
    "Simulate a robot that:\n",
    "1.\tComputes a global path using A* on a known map.\n",
    "2.\tFollows the path, assuming it is correct.\n",
    "3.\tEncounters unexpected obstacles not included in the global map.\n",
    "4.\tUses a Bug2-style local planner to bypass these obstacles and rejoin the original path.\n",
    "\n",
    "Think about the following questions:\n",
    "- Under what circumstances does Bug2 perform worse than A*?\n",
    "- Is Bug2 guaranteed to find a path if one exists?"
   ]
  },
  {
   "cell_type": "code",
   "execution_count": 38,
   "id": "4eaa7085",
   "metadata": {},
   "outputs": [
    {
     "ename": "SyntaxError",
     "evalue": "incomplete input (1879523407.py, line 41)",
     "output_type": "error",
     "traceback": [
      "\u001b[0;36m  Cell \u001b[0;32mIn[38], line 41\u001b[0;36m\u001b[0m\n\u001b[0;31m    #Add your code here\u001b[0m\n\u001b[0m                       ^\u001b[0m\n\u001b[0;31mSyntaxError\u001b[0m\u001b[0;31m:\u001b[0m incomplete input\n"
     ]
    }
   ],
   "source": [
    "def bug2_detour(true_map, start, visited, rejoin_set, max_steps=500):\n",
    "    \"\"\"\n",
    "    Follow the boundary of an unknown obstacle using a Bug2-style detour.\n",
    "    Rejoin when encountering a free cell on the global path beyond the blockage.\n",
    "    \n",
    "    Parameters:\n",
    "    - true_map: GridMap with full ground truth including hidden obstacles.\n",
    "    - start: Current robot position (x, y).\n",
    "    - visited: Set of cells already visited.\n",
    "    - rejoin_set: Set of global path cells beyond the blocked one.\n",
    "    - max_steps: Max number of detour steps (prevents infinite loops).\n",
    "\n",
    "    Returns:\n",
    "    - List of detour steps ending on a rejoinable path cell, or empty list.\n",
    "    \"\"\"\n",
    "    #Add your code here\n",
    "\n",
    "    return []\n",
    "\n",
    "def is_on_line(p, start, goal):\n",
    "    \"\"\"\n",
    "    Checks if point p is on the line from start to goal using cross product.\n",
    "    \"\"\"\n",
    "    #Add your code here\n",
    "    return None \n",
    "\n",
    "def reactive_path_following(gridmap, true_map, path, delay=0.3):\n",
    "    \"\"\"\n",
    "    Simulate a robot executing a global path on a partially known map.\n",
    "    If it encounters unexpected obstacles, it uses Bug2-style detour to rejoin the global path.\n",
    "\n",
    "    Parameters:\n",
    "    - gridmap: Known map used for planning (may miss some obstacles).\n",
    "    - true_map: Ground-truth map with unexpected obstacles.\n",
    "    - path: Global A* path as list of (x, y) cells.\n",
    "    - delay: Time between animation frames.\n",
    "    \"\"\"\n",
    "    #Add your code here\n",
    "\n",
    "def animate_step(true_map, executed_path, robot_pos, global_path, delay=0.3):\n",
    "    #Add your code here"
   ]
  },
  {
   "cell_type": "code",
   "execution_count": null,
   "id": "9d4b534f",
   "metadata": {},
   "outputs": [],
   "source": [
    "# Create known map 20x20(used for A*) and add an obstacle at the center\n",
    "#Add your code here\n",
    "\n",
    "# Plan a path using A*\n",
    "start = (2, 10)\n",
    "goal = (17, 10)\n",
    "#plan your path\n",
    "#Add your code here\n",
    "\n",
    "# Create true map with extra unknown obstacles and unexpected obstacles\n",
    "#Add your code here\n",
    "\n",
    "# Execute reactive path following\n",
    "#Add your code here"
   ]
  },
  {
   "cell_type": "markdown",
   "id": "06802a9c",
   "metadata": {},
   "source": [
    "### Coding Task 3.2 - Bug2 with Random Obstacles\n",
    "Build on the previous example, where we had global and local obstacles, by introducing random obstacles within the \"local-sensing range\" of the robot. I.e., while executing, random obstacles appear near the robot. The robot must:\n",
    "- Detect the new obstacle.\n",
    "- Use Bug2 to locally avoid it.\n",
    "- Resume following the global path.\n",
    "\n",
    "This task models how a real robot might react to the sudden appearances of dynamic obstacles like humans crossing their path. Robots also usually have limited sensing ranges, meaning that they are unaware of obstacles until in range.\n",
    "\n",
    "Think about the following questions:\n",
    "- Is the robot guaranteed to reach the goal under continuous obstacle addition?\n",
    "- How could this be extended to trigger local re-planning instead of Bug2?\n"
   ]
  },
  {
   "cell_type": "code",
   "execution_count": null,
   "id": "3b08a18f",
   "metadata": {},
   "outputs": [],
   "source": [
    "#Add your code here\n",
    "#create dynamic obstacles and add reactive path to show reactive path following with these dynamic obstacles\n",
    "def dynamic_obstacle(true_map, robot_pos, chance=0.3, radius=2):\n",
    "#Add your code here\n",
    "def reactive_path_following_with_dynamic_obstacles(gridmap, true_map, path, delay=0.3):\n",
    "#Add your code here"
   ]
  },
  {
   "cell_type": "code",
   "execution_count": null,
   "id": "40905d53",
   "metadata": {},
   "outputs": [],
   "source": [
    "# Grid known to the planner (same as before)\n",
    "#Add your code here\n",
    "\n",
    "# Global path from Task 2\n",
    "start = (2, 10)\n",
    "goal = (17, 10)\n",
    "\n",
    "\n",
    "# True map (no dynamic obstacles yet)\n",
    "#Add your code here\n",
    "\n",
    "# Run with dynamic events\n",
    "#Add your code here"
   ]
  },
  {
   "cell_type": "markdown",
   "id": "c8779daf",
   "metadata": {},
   "source": [
    "## Submission Checklist\n",
    "- [ ] All of the coding tasks are completed\n",
    "- [ ] You can show the visualisations and animations as requested\n",
    "- [ ] You can confidently provide answers to the questions posed in the tasks"
   ]
  }
 ],
 "metadata": {
  "kernelspec": {
   "display_name": "base",
   "language": "python",
   "name": "python3"
  },
  "language_info": {
   "codemirror_mode": {
    "name": "ipython",
    "version": 3
   },
   "file_extension": ".py",
   "mimetype": "text/x-python",
   "name": "python",
   "nbconvert_exporter": "python",
   "pygments_lexer": "ipython3",
   "version": "3.12.7"
  }
 },
 "nbformat": 4,
 "nbformat_minor": 5
}
